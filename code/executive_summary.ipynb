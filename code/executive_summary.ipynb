{
 "cells": [
  {
   "cell_type": "markdown",
   "metadata": {},
   "source": [
    "# Executive Summary"
   ]
  },
  {
   "cell_type": "markdown",
   "metadata": {},
   "source": [
    "## Problem Statement"
   ]
  },
  {
   "cell_type": "markdown",
   "metadata": {},
   "source": [
    "Can you predict what subreddit a comment comes from?"
   ]
  },
  {
   "cell_type": "markdown",
   "metadata": {},
   "source": [
    "## Description of Data"
   ]
  },
  {
   "cell_type": "markdown",
   "metadata": {},
   "source": [
    "### Size"
   ]
  },
  {
   "cell_type": "markdown",
   "metadata": {},
   "source": [
    "* 116,443 comments from reddit were collected\n",
    "* 58,355 from the mildlyinteresting subreddit\n",
    "* 58,088 from the interestingasfuck subreddit\n",
    "* The body of the comment, the author of the comment, what subreddit the comment came from, and the time at which the comment was posted were collected\n",
    "* 13 features were engineered from the comments"
   ]
  },
  {
   "cell_type": "markdown",
   "metadata": {},
   "source": [
    "### Source"
   ]
  },
  {
   "cell_type": "markdown",
   "metadata": {},
   "source": [
    "This data was collected using the Pushshift Reddit API.\n",
    "\n",
    "The github repository and docs for the API can be found [here](https://github.com/pushshift/api)."
   ]
  },
  {
   "cell_type": "markdown",
   "metadata": {},
   "source": [
    "### Target"
   ]
  },
  {
   "cell_type": "markdown",
   "metadata": {},
   "source": [
    "The target was the subreddit."
   ]
  },
  {
   "cell_type": "markdown",
   "metadata": {},
   "source": [
    "### Data Dictionary"
   ]
  },
  {
   "cell_type": "markdown",
   "metadata": {},
   "source": [
    "|Feature|Type|Dataset|Description|\n",
    "|---|---|---|---|\n",
    "|subreddit|object/int|comment.csv/comment_clean.csv|The type changes depending on the dataset. Subreddit where the comment came from. 'interestingasfuck'=1, 'mildlyinteresting'=0|\n",
    "|body|object|comment.csv/comment_clean.csv|This is the text of the comment.|\n",
    "|auth|object|comment.csv|The author of the comment.|\n",
    "|time|int|comment.csv|The time the author posted the comment.|\n",
    "|num_of_chars|int|comment_clean.csv|The total number of characters of a comment. This includes letters, numbers, punctuation, etc.|\n",
    "|word_count|int|comment_clean.csv|The total number of words in a comment.|\n",
    "|question_mark|int|comment_clean.csv|This feature is for whether or not a comment had a question mark. 1 means there is at least one, 0 means there are none.|\n",
    "|exclaimation|int|comment_clean.csv|This feature is for whether or not a comment had a exclaimation point. 1 means there is at least one, 0 means there are none.|\n",
    "|dot_dot_dot|int|comment_clean.csv|This feature is for whether or not a comment had a trailing sentence or \"...\". 1 means there is at least one, 0 means there are none.|\n",
    "|quotes|int|comment_clean.csv|This feature is for whether or not a comment had text in quotes. 1 means there is at least one, 0 means there are none.|\n",
    "|italics|int|comment_clean.csv|This feature is for whether or not a comment had text in italics. 1 means there is at least one, 0 means there are none.|\n",
    "|bold|int|comment_clean.csv|This feature is for whether or not a comment had text in bold. 1 means there is at least one, 0 means there are none.|\n",
    "|polarity|float|comment_clean.csv|This feature scored the polarity of a comment.|\n",
    "|subjectivity|float|comment_clean.csv|This feature scored the subjectivity of a comment.|\n",
    "|avg_word_length|int|comment_clean.csv|This feature is the average word length of a comment.|\n",
    "|stop_word_count|int|comment_clean.csv|This feature is the count of the number of stop words in a comment.|\n"
   ]
  },
  {
   "cell_type": "markdown",
   "metadata": {},
   "source": [
    "## Models"
   ]
  },
  {
   "cell_type": "markdown",
   "metadata": {},
   "source": [
    "* Six different models were fit\n",
    "* Three models were chosen to examine more closely\n",
    "* MultinomialNB, LogisticRegression, and a VotingClassifier that incorporated both made the final cut\n",
    "\n",
    "<br>\n",
    "\n",
    "|Model|Accuracy|\n",
    "|---|---|\n",
    "|Baseline|53.7%|\n",
    "|MultinomialNB|70.5%|\n",
    "|LogisticRegression|70.8%|\n",
    "|VotingClassifier|71.3%|\n",
    "\n",
    "These models were chosen because they performed better, and the time to run them was significantly less than the other models that were tested."
   ]
  },
  {
   "cell_type": "markdown",
   "metadata": {},
   "source": [
    "## Findings/Conclusion/Recommendations"
   ]
  },
  {
   "cell_type": "markdown",
   "metadata": {},
   "source": [
    "In conclusion, yes, I was able to predict what subreddit a comment came from. My model was able to classify what subreddit with an accuracy of 71.3%. This was a 17.6% improvement over the baseline accuracy of 53.7%.\n",
    "\n",
    "I plan on collecting more data and find a better way to deal with some of the noise generated by comments with just a few words."
   ]
  },
  {
   "cell_type": "markdown",
   "metadata": {},
   "source": [
    "## What's Next"
   ]
  },
  {
   "cell_type": "markdown",
   "metadata": {},
   "source": [
    "This was a great first step in NLP classification for me. Going through the process of collecting data, cleaning it, performing EDA, and finally creating a model, I was able to learn new techniques and continue to sharpen my skills. I look forward to learning other ways of cleaning data and fine-tuning my models to achieve maximum performance.\n",
    "\n",
    "I don't believe my model is ready for production, but I also don't think it is far off. I was able to streamline my process where I can continue to collect more data, clean it, and model it with just a few clicks. Finding a way to deal with the noise that comes with comments with just a few words would take my model to a production level.\n"
   ]
  },
  {
   "cell_type": "markdown",
   "metadata": {},
   "source": []
  }
 ],
 "metadata": {
  "language_info": {
   "name": "python"
  },
  "orig_nbformat": 4
 },
 "nbformat": 4,
 "nbformat_minor": 2
}
