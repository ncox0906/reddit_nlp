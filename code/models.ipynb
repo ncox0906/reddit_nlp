{
 "cells": [
  {
   "cell_type": "markdown",
   "metadata": {},
   "source": [
    "# This file creates models from the cleaned data. \"pushshift_func.ipynb\" and \"comment_cleaning.ipynb\" need to be ran before this file"
   ]
  },
  {
   "cell_type": "markdown",
   "metadata": {},
   "source": [
    "# Imports"
   ]
  },
  {
   "cell_type": "code",
   "execution_count": 1,
   "metadata": {},
   "outputs": [],
   "source": [
    "import pandas as pd\n",
    "import numpy as np\n",
    "import matplotlib.pyplot as plt\n",
    "\n",
    "from sklearn.model_selection import train_test_split, GridSearchCV\n",
    "from sklearn.pipeline import make_pipeline\n",
    "from sklearn.linear_model import LogisticRegression\n",
    "from sklearn.compose import make_column_transformer, make_column_selector\n",
    "from sklearn.feature_extraction.text import CountVectorizer, TfidfVectorizer\n",
    "from sklearn.naive_bayes import MultinomialNB\n",
    "from sklearn.ensemble import RandomForestClassifier, BaggingClassifier, VotingClassifier\n",
    "from sklearn.neighbors import KNeighborsClassifier\n",
    "from sklearn.metrics import f1_score, ConfusionMatrixDisplay\n",
    "\n",
    "from nltk import word_tokenize\n",
    "from nltk.stem import WordNetLemmatizer"
   ]
  },
  {
   "cell_type": "code",
   "execution_count": 2,
   "metadata": {},
   "outputs": [],
   "source": [
    "# read in clean data\n",
    "df_comment = pd.read_csv('../data/comment_clean.csv')"
   ]
  },
  {
   "cell_type": "markdown",
   "metadata": {},
   "source": [
    "# Info"
   ]
  },
  {
   "cell_type": "code",
   "execution_count": 8,
   "metadata": {},
   "outputs": [
    {
     "name": "stdout",
     "output_type": "stream",
     "text": [
      "<class 'pandas.core.frame.DataFrame'>\n",
      "RangeIndex: 102486 entries, 0 to 102485\n",
      "Data columns (total 15 columns):\n",
      " #   Column           Non-Null Count   Dtype  \n",
      "---  ------           --------------   -----  \n",
      " 0   subreddit        102486 non-null  int64  \n",
      " 1   body             102486 non-null  object \n",
      " 2   num_of_chars     102486 non-null  int64  \n",
      " 3   word_count       102486 non-null  int64  \n",
      " 4   capital_count    102486 non-null  int64  \n",
      " 5   question_mark    102486 non-null  int64  \n",
      " 6   exclaimation     102486 non-null  int64  \n",
      " 7   dot_dot_dot      102486 non-null  int64  \n",
      " 8   quotes           102486 non-null  int64  \n",
      " 9   italics          102486 non-null  int64  \n",
      " 10  bold             102486 non-null  int64  \n",
      " 11  polarity         102486 non-null  float64\n",
      " 12  subjectivity     102486 non-null  float64\n",
      " 13  avg_word_length  102486 non-null  int64  \n",
      " 14  stop_word_count  102486 non-null  int64  \n",
      "dtypes: float64(2), int64(12), object(1)\n",
      "memory usage: 11.7+ MB\n"
     ]
    }
   ],
   "source": [
    "df_comment.info()"
   ]
  },
  {
   "cell_type": "code",
   "execution_count": 69,
   "metadata": {},
   "outputs": [
    {
     "data": {
      "text/plain": [
       "0    0.537384\n",
       "1    0.462616\n",
       "Name: subreddit, dtype: float64"
      ]
     },
     "execution_count": 69,
     "metadata": {},
     "output_type": "execute_result"
    }
   ],
   "source": [
    "df_comment['subreddit'].value_counts(normalize=True)"
   ]
  },
  {
   "cell_type": "markdown",
   "metadata": {},
   "source": [
    "# Functions"
   ]
  },
  {
   "cell_type": "code",
   "execution_count": 3,
   "metadata": {},
   "outputs": [],
   "source": [
    "# Created by Jeff\n",
    "def split_into_lemmas(text):\n",
    "    '''return lowercased, lemmatizeed list of words as a string from a document passed in '''\n",
    "   \n",
    "    text = text.lower()\n",
    "    lemmer = WordNetLemmatizer()\n",
    "    return ' '.join([lemmer.lemmatize(word) for word in text.split()])"
   ]
  },
  {
   "cell_type": "code",
   "execution_count": 4,
   "metadata": {},
   "outputs": [],
   "source": [
    "def model_func(estimator, params, data, display_coefs=False):\n",
    "    # Function takes in an estimator, parameters for that estimator, and a data frame\n",
    "    # display_coefs is an optional parameter. default is false. set to true to display dataframe of the coefs of words\n",
    "\n",
    "    # features used and what is trying to be predicted\n",
    "    X = data['body']\n",
    "    y = data['subreddit']\n",
    "\n",
    "    # splitting data to training and test set\n",
    "    X_train, X_test, y_train, y_test = train_test_split(X, y, stratify=y)\n",
    "\n",
    "    pipe = make_pipeline(TfidfVectorizer(preprocessor=split_into_lemmas), estimator)\n",
    "\n",
    "    gs = GridSearchCV(pipe, params)\n",
    "    gs.fit(X_train, y_train)\n",
    "\n",
    "    # prints out best params and scores\n",
    "    print('Best Params')\n",
    "    for k,v in gs.best_params_.items():\n",
    "        print(f'{k}: {v}')\n",
    "    print('*' * 50)\n",
    "    print('Scores')\n",
    "    print(f'   Train: ', gs.score(X_train, y_train))\n",
    "    print(f'    Test: ', gs.score(X_test, y_test))\n",
    "    print(f'F1 Score: ', f1_score(y_test, gs.predict(X_test)))\n",
    "\n",
    "    # if display_coefs is set to true, gets coefficients, saves them to a csv, and returns a dataframe of the coefs\n",
    "    # if false, displays a confusion matrix\n",
    "    if display_coefs:\n",
    "        coefs = gs.best_estimator_.named_steps[str(estimator).lower()[:-2]].coef_\n",
    "        cols = gs.best_estimator_.named_steps['tfidfvectorizer'].get_feature_names_out()\n",
    "        coef_df = pd.DataFrame(zip(cols, coefs[0])).sort_values(1)\n",
    "        coef_df.rename(columns={0:'word', 1:'coef'}, inplace=True)\n",
    "        coef_df.to_csv(f'../data/{str(estimator).lower()[:-2]}_coefs.csv', index=False)\n",
    "        return coef_df\n",
    "    else:\n",
    "        ConfusionMatrixDisplay.from_estimator(\n",
    "            gs.best_estimator_, \n",
    "            X_test, \n",
    "            y_test, \n",
    "            cmap='Blues', \n",
    "            display_labels=['mildlyinteresting', 'interestingasfuck']\n",
    "        )\n",
    "        plt.title('Confusion Matrix')"
   ]
  },
  {
   "cell_type": "code",
   "execution_count": 54,
   "metadata": {},
   "outputs": [
    {
     "data": {
      "text/plain": [
       "dict_keys(['analyzer', 'binary', 'decode_error', 'dtype', 'encoding', 'input', 'lowercase', 'max_df', 'max_features', 'min_df', 'ngram_range', 'norm', 'preprocessor', 'smooth_idf', 'stop_words', 'strip_accents', 'sublinear_tf', 'token_pattern', 'tokenizer', 'use_idf', 'vocabulary'])"
      ]
     },
     "execution_count": 54,
     "metadata": {},
     "output_type": "execute_result"
    }
   ],
   "source": [
    "TfidfVectorizer().get_params().keys()"
   ]
  },
  {
   "cell_type": "markdown",
   "metadata": {},
   "source": [
    "# Models"
   ]
  },
  {
   "cell_type": "markdown",
   "metadata": {},
   "source": [
    "Parameters listed were determined through many trials to maximize the models' performance."
   ]
  },
  {
   "cell_type": "markdown",
   "metadata": {},
   "source": [
    "### MultinomialNB"
   ]
  },
  {
   "cell_type": "code",
   "execution_count": 18,
   "metadata": {},
   "outputs": [
    {
     "name": "stdout",
     "output_type": "stream",
     "text": [
      "Best Params\n",
      "multinomialnb__alpha: 1\n",
      "tfidfvectorizer__max_df: 0.1\n",
      "tfidfvectorizer__max_features: 13000\n",
      "tfidfvectorizer__min_df: 3\n",
      "tfidfvectorizer__ngram_range: (1, 1)\n",
      "**************************************************\n",
      "Scores\n",
      "   Train:  0.7582483347210658\n",
      "    Test:  0.7091561938958707\n",
      "F1 Score:  0.6557331608611291\n"
     ]
    },
    {
     "data": {
      "image/png": "[encoded data removed]",
      "text/plain": [
       "<Figure size 432x288 with 2 Axes>"
      ]
     },
     "metadata": {
      "needs_background": "light"
     },
     "output_type": "display_data"
    }
   ],
   "source": [
    "params_nb = {\n",
    "    'multinomialnb__alpha': [1],\n",
    "    'tfidfvectorizer__min_df': [3],\n",
    "    'tfidfvectorizer__ngram_range': [(1,1)],\n",
    "    'tfidfvectorizer__max_df': [.1],\n",
    "    'tfidfvectorizer__max_features': [12_000, 13_000]\n",
    "}\n",
    "\n",
    "model_func(MultinomialNB(), params_nb, df_comment)"
   ]
  },
  {
   "cell_type": "markdown",
   "metadata": {},
   "source": [
    "### RandomForestClassifier"
   ]
  },
  {
   "cell_type": "code",
   "execution_count": null,
   "metadata": {},
   "outputs": [],
   "source": [
    "params_rf = {\n",
    "    'randomforestclassifier__max_depth': [20, None],\n",
    "    'randomforestclassifier__max_features': [5, 10],\n",
    "    'randomforestclassifier__n_estimators': [10, 100],\n",
    "    'tfidfvectorizer__min_df': [3],\n",
    "    'tfidfvectorizer__ngram_range': [(1,1), (1,2)],\n",
    "    'tfidfvectorizer__max_df': [.1],\n",
    "    'tfidfvectorizer__max_features': [7000]\n",
    "}\n",
    "\n",
    "model_func(RandomForestClassifier(), params_rf, df_comment)"
   ]
  },
  {
   "cell_type": "markdown",
   "metadata": {},
   "source": [
    "### BaggingClassifier"
   ]
  },
  {
   "cell_type": "code",
   "execution_count": null,
   "metadata": {},
   "outputs": [],
   "source": [
    "params_bc = {\n",
    "    'baggingclassifier__n_estimators': [50],\n",
    "    'tfidfvectorizer__min_df': [3],\n",
    "    'tfidfvectorizer__ngram_range': [(1,1)],\n",
    "    'tfidfvectorizer__max_df': [.2],\n",
    "    'tfidfvectorizer__max_features': [7000]\n",
    "}\n",
    "\n",
    "model_func(BaggingClassifier(), params_bc, df_comment)"
   ]
  },
  {
   "cell_type": "markdown",
   "metadata": {},
   "source": [
    "### KNeighborsClassifier"
   ]
  },
  {
   "cell_type": "code",
   "execution_count": null,
   "metadata": {},
   "outputs": [],
   "source": [
    "params_knn = {\n",
    "    'kneighborsclassifier__n_neighbors': [5, 7],\n",
    "    'tfidfvectorizer__min_df': [3],\n",
    "    'tfidfvectorizer__ngram_range': [(1,1), (1,2)],\n",
    "    'tfidfvectorizer__max_df': [.1, .2],\n",
    "    'tfidfvectorizer__max_features': [7000]\n",
    "}\n",
    "\n",
    "model_func(KNeighborsClassifier(), params_knn, df_comment)"
   ]
  },
  {
   "cell_type": "markdown",
   "metadata": {},
   "source": [
    "### LogisticRegression"
   ]
  },
  {
   "cell_type": "code",
   "execution_count": 6,
   "metadata": {},
   "outputs": [
    {
     "name": "stdout",
     "output_type": "stream",
     "text": [
      "Best Params\n",
      "logisticregression__C: 1\n",
      "logisticregression__max_iter: 10000\n",
      "tfidfvectorizer__max_df: 0.1\n",
      "tfidfvectorizer__max_features: 13000\n",
      "tfidfvectorizer__min_df: 3\n",
      "tfidfvectorizer__ngram_range: (1, 1)\n",
      "**************************************************\n",
      "Scores\n",
      "   Train:  0.7648834304746045\n",
      "    Test:  0.708297556787136\n",
      "F1 Score:  0.6689404677533665\n"
     ]
    },
    {
     "data": {
      "text/html": [
       "<div>\n",
       "<style scoped>\n",
       "    .dataframe tbody tr th:only-of-type {\n",
       "        vertical-align: middle;\n",
       "    }\n",
       "\n",
       "    .dataframe tbody tr th {\n",
       "        vertical-align: top;\n",
       "    }\n",
       "\n",
       "    .dataframe thead th {\n",
       "        text-align: right;\n",
       "    }\n",
       "</style>\n",
       "<table border=\"1\" class=\"dataframe\">\n",
       "  <thead>\n",
       "    <tr style=\"text-align: right;\">\n",
       "      <th></th>\n",
       "      <th>word</th>\n",
       "      <th>coef</th>\n",
       "    </tr>\n",
       "  </thead>\n",
       "  <tbody>\n",
       "    <tr>\n",
       "      <th>6566</th>\n",
       "      <td>license</td>\n",
       "      <td>-5.074840</td>\n",
       "    </tr>\n",
       "    <tr>\n",
       "      <th>991</th>\n",
       "      <td>beanie</td>\n",
       "      <td>-4.989898</td>\n",
       "    </tr>\n",
       "    <tr>\n",
       "      <th>7167</th>\n",
       "      <td>mildly</td>\n",
       "      <td>-4.849861</td>\n",
       "    </tr>\n",
       "    <tr>\n",
       "      <th>11713</th>\n",
       "      <td>tooth</td>\n",
       "      <td>-4.729820</td>\n",
       "    </tr>\n",
       "    <tr>\n",
       "      <th>7643</th>\n",
       "      <td>nfts</td>\n",
       "      <td>-4.570500</td>\n",
       "    </tr>\n",
       "    <tr>\n",
       "      <th>...</th>\n",
       "      <td>...</td>\n",
       "      <td>...</td>\n",
       "    </tr>\n",
       "    <tr>\n",
       "      <th>1774</th>\n",
       "      <td>cell</td>\n",
       "      <td>3.948053</td>\n",
       "    </tr>\n",
       "    <tr>\n",
       "      <th>12994</th>\n",
       "      <td>zoo</td>\n",
       "      <td>4.099214</td>\n",
       "    </tr>\n",
       "    <tr>\n",
       "      <th>9728</th>\n",
       "      <td>rocket</td>\n",
       "      <td>4.248372</td>\n",
       "    </tr>\n",
       "    <tr>\n",
       "      <th>401</th>\n",
       "      <td>anaconda</td>\n",
       "      <td>4.507288</td>\n",
       "    </tr>\n",
       "    <tr>\n",
       "      <th>5349</th>\n",
       "      <td>homeless</td>\n",
       "      <td>5.350605</td>\n",
       "    </tr>\n",
       "  </tbody>\n",
       "</table>\n",
       "<p>13000 rows × 2 columns</p>\n",
       "</div>"
      ],
      "text/plain": [
       "           word      coef\n",
       "6566    license -5.074840\n",
       "991      beanie -4.989898\n",
       "7167     mildly -4.849861\n",
       "11713     tooth -4.729820\n",
       "7643       nfts -4.570500\n",
       "...         ...       ...\n",
       "1774       cell  3.948053\n",
       "12994       zoo  4.099214\n",
       "9728     rocket  4.248372\n",
       "401    anaconda  4.507288\n",
       "5349   homeless  5.350605\n",
       "\n",
       "[13000 rows x 2 columns]"
      ]
     },
     "execution_count": 6,
     "metadata": {},
     "output_type": "execute_result"
    }
   ],
   "source": [
    "params_logreg = {\n",
    "    'logisticregression__C': [1],\n",
    "    'logisticregression__max_iter': [10_000],\n",
    "    # 'logisticregression__solver': ['lbfgs', 'liblinear', 'sag', 'saga'],\n",
    "    # 'logisticregression__penalty': ['1', 'l2', 'elasticnet', 'none'],\n",
    "    'tfidfvectorizer__min_df': [3],\n",
    "    'tfidfvectorizer__ngram_range': [(1,1)],\n",
    "    'tfidfvectorizer__max_df': [.1],\n",
    "    'tfidfvectorizer__max_features': [13_000]\n",
    "}\n",
    "\n",
    "model_func(LogisticRegression(), params_logreg, df_comment, display_coefs=True)"
   ]
  },
  {
   "cell_type": "markdown",
   "metadata": {},
   "source": [
    "### VotingClassifier"
   ]
  },
  {
   "cell_type": "code",
   "execution_count": 5,
   "metadata": {},
   "outputs": [
    {
     "name": "stdout",
     "output_type": "stream",
     "text": [
      "Best Params\n",
      "tfidfvectorizer__max_df: 0.1\n",
      "tfidfvectorizer__max_features: 13000\n",
      "tfidfvectorizer__min_df: 3\n",
      "tfidfvectorizer__ngram_range: (1, 1)\n",
      "votingclassifier__logreg__C: 1\n",
      "votingclassifier__nb__alpha: 1\n",
      "**************************************************\n",
      "Scores\n",
      "   Train:  0.766548709408826\n",
      "    Test:  0.7106783233159004\n",
      "F1 Score:  0.6675039246467818\n"
     ]
    },
    {
     "data": {
      "image/png": "[encoded data removed]",
      "text/plain": [
       "<Figure size 432x288 with 2 Axes>"
      ]
     },
     "metadata": {
      "needs_background": "light"
     },
     "output_type": "display_data"
    }
   ],
   "source": [
    "vc = VotingClassifier(\n",
    "    [\n",
    "        ('nb', MultinomialNB()),\n",
    "        # ('rf', RandomForestClassifier()),\n",
    "        ('logreg', LogisticRegression(max_iter=10_000))\n",
    "    ],\n",
    "    voting='soft'\n",
    ")\n",
    "\n",
    "params_vc = {\n",
    "    'votingclassifier__nb__alpha': [1],\n",
    "    'votingclassifier__logreg__C': [1],\n",
    "    # 'votingclassifier__rf__max_features': [20],\n",
    "    # 'votingclassifier__rf__n_estimators': [100],\n",
    "    'tfidfvectorizer__min_df': [3],\n",
    "    'tfidfvectorizer__ngram_range': [(1,1)],\n",
    "    'tfidfvectorizer__max_df': [.1],\n",
    "    'tfidfvectorizer__max_features': [12_000, 13_000]\n",
    "}\n",
    "\n",
    "model_func(vc, params_vc, df_comment)"
   ]
  },
  {
   "cell_type": "code",
   "execution_count": null,
   "metadata": {},
   "outputs": [],
   "source": []
  },
  {
   "cell_type": "code",
   "execution_count": null,
   "metadata": {},
   "outputs": [],
   "source": []
  },
  {
   "cell_type": "markdown",
   "metadata": {},
   "source": [
    "## Filtering data based on number of characters in a comment"
   ]
  },
  {
   "cell_type": "markdown",
   "metadata": {},
   "source": [
    "This section was used for exploring the relationship between the number of characters in a comment and the models performance.\n",
    "\n",
    "The models scores improved while filtering out these comments, but the usefullness of the model decreased in my opinion. By leaving simple comments like 'nice' or '+1' it was able to increase the range of comments to be applied to."
   ]
  },
  {
   "cell_type": "markdown",
   "metadata": {},
   "source": [
    "### Number of Characters > 10"
   ]
  },
  {
   "cell_type": "code",
   "execution_count": 8,
   "metadata": {},
   "outputs": [
    {
     "name": "stdout",
     "output_type": "stream",
     "text": [
      "Best Params\n",
      "multinomialnb__alpha: 1\n",
      "tfidfvectorizer__max_df: 0.1\n",
      "tfidfvectorizer__max_features: 13000\n",
      "tfidfvectorizer__min_df: 3\n",
      "tfidfvectorizer__ngram_range: (1, 1)\n",
      "**************************************************\n",
      "Scores\n",
      "   Train:  0.7634143013100436\n",
      "    Test:  0.7099111638760388\n",
      "F1 Score:  0.6595887778631822\n"
     ]
    }
   ],
   "source": [
    "df_comment_10 = df_comment[df_comment['num_of_chars'] > 10]\n",
    "\n",
    "model_func(MultinomialNB(), params_nb, df_comment_10)"
   ]
  },
  {
   "cell_type": "markdown",
   "metadata": {},
   "source": [
    "### Number of Characters > 20"
   ]
  },
  {
   "cell_type": "code",
   "execution_count": 9,
   "metadata": {},
   "outputs": [
    {
     "name": "stdout",
     "output_type": "stream",
     "text": [
      "Best Params\n",
      "multinomialnb__alpha: 1\n",
      "tfidfvectorizer__max_df: 0.1\n",
      "tfidfvectorizer__max_features: 13000\n",
      "tfidfvectorizer__min_df: 3\n",
      "tfidfvectorizer__ngram_range: (1, 1)\n",
      "**************************************************\n",
      "Scores\n",
      "   Train:  0.7734394237872445\n",
      "    Test:  0.7210397525278175\n",
      "F1 Score:  0.6723071916693785\n"
     ]
    }
   ],
   "source": [
    "df_comment_20 = df_comment[df_comment['num_of_chars'] > 20]\n",
    "\n",
    "model_func(MultinomialNB(), params_nb, df_comment_20)"
   ]
  },
  {
   "cell_type": "markdown",
   "metadata": {},
   "source": [
    "### Number of Characters > 30"
   ]
  },
  {
   "cell_type": "code",
   "execution_count": 10,
   "metadata": {},
   "outputs": [
    {
     "name": "stdout",
     "output_type": "stream",
     "text": [
      "Best Params\n",
      "multinomialnb__alpha: 1\n",
      "tfidfvectorizer__max_df: 0.1\n",
      "tfidfvectorizer__max_features: 13000\n",
      "tfidfvectorizer__min_df: 3\n",
      "tfidfvectorizer__ngram_range: (1, 1)\n",
      "**************************************************\n",
      "Scores\n",
      "   Train:  0.7862580379372728\n",
      "    Test:  0.729554003224073\n",
      "F1 Score:  0.6805053005776678\n"
     ]
    }
   ],
   "source": [
    "df_comment_30 = df_comment[df_comment['num_of_chars'] > 30]\n",
    "\n",
    "model_func(MultinomialNB(), params_nb, df_comment_30)"
   ]
  },
  {
   "cell_type": "markdown",
   "metadata": {},
   "source": [
    "### Number of Characters > 40"
   ]
  },
  {
   "cell_type": "code",
   "execution_count": 11,
   "metadata": {},
   "outputs": [
    {
     "name": "stdout",
     "output_type": "stream",
     "text": [
      "Best Params\n",
      "multinomialnb__alpha: 1\n",
      "tfidfvectorizer__max_df: 0.1\n",
      "tfidfvectorizer__max_features: 13000\n",
      "tfidfvectorizer__min_df: 3\n",
      "tfidfvectorizer__ngram_range: (1, 1)\n",
      "**************************************************\n",
      "Scores\n",
      "   Train:  0.7990670972371726\n",
      "    Test:  0.7383183487400279\n",
      "F1 Score:  0.6899242253732464\n"
     ]
    }
   ],
   "source": [
    "df_comment_40 = df_comment[df_comment['num_of_chars'] > 40]\n",
    "\n",
    "model_func(MultinomialNB(), params_nb, df_comment_40)"
   ]
  },
  {
   "cell_type": "markdown",
   "metadata": {},
   "source": [
    "### Number of Characters > 50"
   ]
  },
  {
   "cell_type": "code",
   "execution_count": 30,
   "metadata": {},
   "outputs": [
    {
     "name": "stdout",
     "output_type": "stream",
     "text": [
      "Best Params\n",
      "multinomialnb__alpha: 1\n",
      "tfidfvectorizer__max_df: 0.1\n",
      "tfidfvectorizer__max_features: 12000\n",
      "tfidfvectorizer__min_df: 2\n",
      "tfidfvectorizer__ngram_range: (1, 1)\n",
      "**************************************************\n",
      "Scores\n",
      "   Train:  0.8085137977973024\n",
      "    Test:  0.7484594253470933\n",
      "F1 Score:  0.6998050682261208\n"
     ]
    }
   ],
   "source": [
    "df_comment_50 = df_comment[df_comment['num_of_chars'] > 50]\n",
    "\n",
    "params_nb = {\n",
    "    'multinomialnb__alpha': [1],\n",
    "    'tfidfvectorizer__min_df': [2],\n",
    "    'tfidfvectorizer__ngram_range': [(1,1)],\n",
    "    'tfidfvectorizer__max_df': [.1],\n",
    "    'tfidfvectorizer__max_features': [12_000]\n",
    "}\n",
    "\n",
    "model_func(MultinomialNB(), params_nb, df_comment_50)"
   ]
  },
  {
   "cell_type": "markdown",
   "metadata": {},
   "source": [
    "### Number of Characters > 60"
   ]
  },
  {
   "cell_type": "code",
   "execution_count": 19,
   "metadata": {},
   "outputs": [
    {
     "name": "stdout",
     "output_type": "stream",
     "text": [
      "Best Params\n",
      "multinomialnb__alpha: 1\n",
      "tfidfvectorizer__max_df: 0.1\n",
      "tfidfvectorizer__max_features: 12000\n",
      "tfidfvectorizer__min_df: 3\n",
      "tfidfvectorizer__ngram_range: (1, 1)\n",
      "**************************************************\n",
      "Scores\n",
      "   Train:  0.8174803510986174\n",
      "    Test:  0.7600894931589364\n",
      "F1 Score:  0.7112676056338028\n"
     ]
    }
   ],
   "source": [
    "df_comment_60 = df_comment[df_comment['num_of_chars'] > 60]\n",
    "\n",
    "params_nb = {\n",
    "    'multinomialnb__alpha': [1],\n",
    "    'tfidfvectorizer__min_df': [3],\n",
    "    'tfidfvectorizer__ngram_range': [(1,1)],\n",
    "    'tfidfvectorizer__max_df': [.1],\n",
    "    'tfidfvectorizer__max_features': [12_000]\n",
    "}\n",
    "\n",
    "model_func(MultinomialNB(), params_nb, df_comment_60)"
   ]
  },
  {
   "cell_type": "markdown",
   "metadata": {},
   "source": [
    "### Number of Characters > 70"
   ]
  },
  {
   "cell_type": "code",
   "execution_count": 24,
   "metadata": {},
   "outputs": [
    {
     "name": "stdout",
     "output_type": "stream",
     "text": [
      "Best Params\n",
      "multinomialnb__alpha: 1\n",
      "tfidfvectorizer__max_df: 0.1\n",
      "tfidfvectorizer__max_features: 11000\n",
      "tfidfvectorizer__min_df: 3\n",
      "tfidfvectorizer__ngram_range: (1, 1)\n",
      "**************************************************\n",
      "Scores\n",
      "   Train:  0.8264993577709713\n",
      "    Test:  0.7627939142461964\n",
      "F1 Score:  0.7169633384415891\n"
     ]
    }
   ],
   "source": [
    "df_comment_70 = df_comment[df_comment['num_of_chars'] > 70]\n",
    "\n",
    "params_nb = {\n",
    "    'multinomialnb__alpha': [1],\n",
    "    'tfidfvectorizer__min_df': [3],\n",
    "    'tfidfvectorizer__ngram_range': [(1,1)],\n",
    "    'tfidfvectorizer__max_df': [.1],\n",
    "    'tfidfvectorizer__max_features': [11_000]\n",
    "}\n",
    "\n",
    "model_func(MultinomialNB(), params_nb, df_comment_70)"
   ]
  },
  {
   "cell_type": "markdown",
   "metadata": {},
   "source": [
    "### Number of Characters > 80"
   ]
  },
  {
   "cell_type": "code",
   "execution_count": 25,
   "metadata": {},
   "outputs": [
    {
     "name": "stdout",
     "output_type": "stream",
     "text": [
      "Best Params\n",
      "multinomialnb__alpha: 1\n",
      "tfidfvectorizer__max_df: 0.1\n",
      "tfidfvectorizer__max_features: 11000\n",
      "tfidfvectorizer__min_df: 3\n",
      "tfidfvectorizer__ngram_range: (1, 1)\n",
      "**************************************************\n",
      "Scores\n",
      "   Train:  0.8377488399940128\n",
      "    Test:  0.7660792457065888\n",
      "F1 Score:  0.7224294086307939\n"
     ]
    }
   ],
   "source": [
    "df_comment_80 = df_comment[df_comment['num_of_chars'] > 80]\n",
    "\n",
    "params_nb = {\n",
    "    'multinomialnb__alpha': [1],\n",
    "    'tfidfvectorizer__min_df': [3],\n",
    "    'tfidfvectorizer__ngram_range': [(1,1)],\n",
    "    'tfidfvectorizer__max_df': [.1],\n",
    "    'tfidfvectorizer__max_features': [11_000]\n",
    "}\n",
    "\n",
    "model_func(MultinomialNB(), params_nb, df_comment_80)"
   ]
  },
  {
   "cell_type": "markdown",
   "metadata": {},
   "source": [
    "### Number of Characters > 90"
   ]
  },
  {
   "cell_type": "code",
   "execution_count": 26,
   "metadata": {},
   "outputs": [
    {
     "name": "stdout",
     "output_type": "stream",
     "text": [
      "Best Params\n",
      "multinomialnb__alpha: 1\n",
      "tfidfvectorizer__max_df: 0.1\n",
      "tfidfvectorizer__max_features: 11000\n",
      "tfidfvectorizer__min_df: 3\n",
      "tfidfvectorizer__ngram_range: (1, 1)\n",
      "**************************************************\n",
      "Scores\n",
      "   Train:  0.8398273892625968\n",
      "    Test:  0.7809644670050762\n",
      "F1 Score:  0.7420029895366218\n"
     ]
    }
   ],
   "source": [
    "df_comment_90 = df_comment[df_comment['num_of_chars'] > 90]\n",
    "\n",
    "params_nb = {\n",
    "    'multinomialnb__alpha': [1],\n",
    "    'tfidfvectorizer__min_df': [3],\n",
    "    'tfidfvectorizer__ngram_range': [(1,1)],\n",
    "    'tfidfvectorizer__max_df': [.1],\n",
    "    'tfidfvectorizer__max_features': [11_000]\n",
    "}\n",
    "\n",
    "model_func(MultinomialNB(), params_nb, df_comment_90)"
   ]
  },
  {
   "cell_type": "markdown",
   "metadata": {},
   "source": [
    "### Number of Characters > 100"
   ]
  },
  {
   "cell_type": "code",
   "execution_count": 27,
   "metadata": {},
   "outputs": [
    {
     "name": "stdout",
     "output_type": "stream",
     "text": [
      "Best Params\n",
      "multinomialnb__alpha: 1\n",
      "tfidfvectorizer__max_df: 0.1\n",
      "tfidfvectorizer__max_features: 10000\n",
      "tfidfvectorizer__min_df: 3\n",
      "tfidfvectorizer__ngram_range: (1, 1)\n",
      "**************************************************\n",
      "Scores\n",
      "   Train:  0.8422799696509864\n",
      "    Test:  0.7924608819345661\n",
      "F1 Score:  0.7517440871192785\n"
     ]
    }
   ],
   "source": [
    "df_comment_100 = df_comment[df_comment['num_of_chars'] > 100]\n",
    "\n",
    "params_nb = {\n",
    "    'multinomialnb__alpha': [1],\n",
    "    'tfidfvectorizer__min_df': [3],\n",
    "    'tfidfvectorizer__ngram_range': [(1,1)],\n",
    "    'tfidfvectorizer__max_df': [.1],\n",
    "    'tfidfvectorizer__max_features': [10_000]\n",
    "}\n",
    "\n",
    "model_func(MultinomialNB(), params_nb, df_comment_100)"
   ]
  },
  {
   "cell_type": "markdown",
   "metadata": {},
   "source": [
    "### Number of Characters > 110"
   ]
  },
  {
   "cell_type": "code",
   "execution_count": 29,
   "metadata": {},
   "outputs": [
    {
     "name": "stdout",
     "output_type": "stream",
     "text": [
      "Best Params\n",
      "multinomialnb__alpha: 0.1\n",
      "tfidfvectorizer__max_df: 0.1\n",
      "tfidfvectorizer__max_features: 10000\n",
      "tfidfvectorizer__min_df: 2\n",
      "tfidfvectorizer__ngram_range: (1, 1)\n",
      "**************************************************\n",
      "Scores\n",
      "   Train:  0.8662683094495267\n",
      "    Test:  0.7985406091370558\n",
      "F1 Score:  0.7685016405395552\n"
     ]
    }
   ],
   "source": [
    "df_comment_110 = df_comment[df_comment['num_of_chars'] > 110]\n",
    "\n",
    "params_nb = {\n",
    "    'multinomialnb__alpha': [.1],\n",
    "    'tfidfvectorizer__min_df': [2],\n",
    "    'tfidfvectorizer__ngram_range': [(1,1)],\n",
    "    'tfidfvectorizer__max_df': [.1],\n",
    "    'tfidfvectorizer__max_features': [10_000]\n",
    "}\n",
    "\n",
    "model_func(MultinomialNB(), params_nb, df_comment_110)"
   ]
  },
  {
   "cell_type": "code",
   "execution_count": null,
   "metadata": {},
   "outputs": [],
   "source": []
  }
 ],
 "metadata": {
  "interpreter": {
   "hash": "b3ba2566441a7c06988d0923437866b63cedc61552a5af99d1f4fb67d367b25f"
  },
  "kernelspec": {
   "display_name": "Python 3.9.7 64-bit ('base': conda)",
   "language": "python",
   "name": "python3"
  },
  "language_info": {
   "codemirror_mode": {
    "name": "ipython",
    "version": 3
   },
   "file_extension": ".py",
   "mimetype": "text/x-python",
   "name": "python",
   "nbconvert_exporter": "python",
   "pygments_lexer": "ipython3",
   "version": "3.9.7"
  },
  "orig_nbformat": 4
 },
 "nbformat": 4,
 "nbformat_minor": 2
}
